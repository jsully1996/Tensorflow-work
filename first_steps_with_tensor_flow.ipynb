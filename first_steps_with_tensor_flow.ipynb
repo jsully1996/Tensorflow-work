{
  "nbformat": 4,
  "nbformat_minor": 0,
  "metadata": {
    "colab": {
      "name": "first_steps_with_tensor_flow.ipynb",
      "version": "0.3.2",
      "provenance": [],
      "collapsed_sections": [
        "JndnmDMp66FL",
        "ajVM7rkoYXeL",
        "ci1ISxxrZ7v0"
      ]
    },
    "kernelspec": {
      "name": "python2",
      "display_name": "Python 2"
    }
  },
  "cells": [
    {
      "cell_type": "markdown",
      "metadata": {
        "id": "JndnmDMp66FL",
        "colab_type": "text"
      },
      "source": [
        "#### Copyright 2017 Google LLC."
      ]
    },
    {
      "cell_type": "code",
      "metadata": {
        "id": "hMqWDc_m6rUC",
        "colab_type": "code",
        "cellView": "both",
        "colab": {}
      },
      "source": [
        "#Licensed under the Apache License, Version 2.0 (the \"License\");\n",
        "# you may not use this file except in compliance with the License.\n",
        "# You may obtain a copy of the License at\n",
        "#\n",
        "# https://www.apache.org/licenses/LICENSE-2.0\n",
        "#\n",
        "# Unless required by applicable law or agreed to in writing, software\n",
        "# distributed under the License is distributed on an \"AS IS\" BASIS,\n",
        "# WITHOUT WARRANTIES OR CONDITIONS OF ANY KIND, either express or implied.\n",
        "# See the License for the specific language governing permissions and\n",
      ],
      "execution_count": 0,
      "outputs": []
    },
    {
      "cell_type": "markdown",
      "metadata": {
        "id": "4f3CKqFUqL2-",
        "colab_type": "text",
        "slideshow": {
          "slide_type": "slide"
        }
      },
      "source": [
        "# First Steps with TensorFlow"
      ]
    },
    {
      "cell_type": "markdown",
      "metadata": {
        "id": "Bd2Zkk1LE2Zr",
        "colab_type": "text"
      },
      "source": [
        "**Learning Objectives:**\n",
        "  * Learn fundamental TensorFlow concepts\n",
        "  * Use the `LinearRegressor` class in TensorFlow to predict median housing price, at the granularity of city blocks, based on one input feature\n",
        "  * Evaluate the accuracy of a model's predictions using Root Mean Squared Error (RMSE)\n",
        "  * Improve the accuracy of a model by tuning its hyperparameters"
      ]
    },
    {
      "cell_type": "markdown",
      "metadata": {
        "id": "MxiIKhP4E2Zr",
        "colab_type": "text"
      },
      "source": [
        "The [data](https://developers.google.com/machine-learning/crash-course/california-housing-data-description) is based on 1990 census data from California."
      ]
    },
    {
      "cell_type": "markdown",
      "metadata": {
        "id": "6TjLjL9IU80G",
        "colab_type": "text"
      },
      "source": [
        "## Setup\n",
        "In this first cell, we'll load the necessary libraries."
      ]
    },
    {
      "cell_type": "code",
      "metadata": {
        "id": "rVFf5asKE2Zt",
        "colab_type": "code",
        "colab": {}
      },
      "source": [
        "from __future__ import print_function\n",
        "\n",
        "import math\n",
        "\n",
        "from IPython import display\n",
        "from matplotlib import cm\n",
        "from matplotlib import gridspec\n",
        "from matplotlib import pyplot as plt\n",
        "import numpy as np\n",
        "import pandas as pd\n",
        "from sklearn import metrics\n",
        "import tensorflow as tf\n",
        "from tensorflow.python.data import Dataset\n",
        "\n",
        "tf.logging.set_verbosity(tf.logging.ERROR)\n",
        "pd.options.display.max_rows = 10\n",
        "pd.options.display.float_format = '{:.1f}'.format"
      ],
      "execution_count": 0,
      "outputs": []
    },
    {
      "cell_type": "markdown",
      "metadata": {
        "id": "ipRyUHjhU80Q",
        "colab_type": "text"
      },
      "source": [
        "Next, we'll load our data set."
      ]
    },
    {
      "cell_type": "code",
      "metadata": {
        "id": "9ivCDWnwE2Zx",
        "colab_type": "code",
        "colab": {}
      },
      "source": [
        "california_housing_dataframe = pd.read_csv(\"https://download.mlcc.google.com/mledu-datasets/california_housing_train.csv\", sep=\",\")"
      ],
      "execution_count": 0,
      "outputs": []
    },
    {
      "cell_type": "markdown",
      "metadata": {
        "id": "vVk_qlG6U80j",
        "colab_type": "text"
      },
      "source": [
        "We'll randomize the data, just to be sure not to get any pathological ordering effects that might harm the performance of Stochastic Gradient Descent. Additionally, we'll scale `median_house_value` to be in units of thousands, so it can be learned a little more easily with learning rates in a range that we usually use."
      ]
    },
    {
      "cell_type": "code",
      "metadata": {
        "id": "r0eVyguIU80m",
        "colab_type": "code",
        "colab": {
          "base_uri": "https://localhost:8080/",
          "height": 419
        },
        "outputId": "c4f5c551-f408-403e-9a6f-0c92f2f11cc1"
      },
      "source": [
        "california_housing_dataframe = california_housing_dataframe.reindex(\n",
        "    np.random.permutation(california_housing_dataframe.index))\n",
        "california_housing_dataframe[\"median_house_value\"] /= 1000.0\n",
        "california_housing_dataframe"
      ],
      "execution_count": 3,
      "outputs": [
        {
          "output_type": "execute_result",
          "data": {
            "text/html": [
              "<div>\n",
              "<style scoped>\n",
              "    .dataframe tbody tr th:only-of-type {\n",
              "        vertical-align: middle;\n",
              "    }\n",
              "\n",
              "    .dataframe tbody tr th {\n",
              "        vertical-align: top;\n",
              "    }\n",
              "\n",
              "    .dataframe thead th {\n",
              "        text-align: right;\n",
              "    }\n",
              "</style>\n",
              "<table border=\"1\" class=\"dataframe\">\n",
              "  <thead>\n",
              "    <tr style=\"text-align: right;\">\n",
              "      <th></th>\n",
              "      <th>longitude</th>\n",
              "      <th>latitude</th>\n",
              "      <th>housing_median_age</th>\n",
              "      <th>total_rooms</th>\n",
              "      <th>total_bedrooms</th>\n",
              "      <th>population</th>\n",
              "      <th>households</th>\n",
              "      <th>median_income</th>\n",
              "      <th>median_house_value</th>\n",
              "    </tr>\n",
              "  </thead>\n",
              "  <tbody>\n",
              "    <tr>\n",
              "      <th>12808</th>\n",
              "      <td>-121.8</td>\n",
              "      <td>38.0</td>\n",
              "      <td>8.0</td>\n",
              "      <td>1584.0</td>\n",
              "      <td>236.0</td>\n",
              "      <td>615.0</td>\n",
              "      <td>202.0</td>\n",
              "      <td>6.5</td>\n",
              "      <td>166.8</td>\n",
              "    </tr>\n",
              "    <tr>\n",
              "      <th>7616</th>\n",
              "      <td>-118.4</td>\n",
              "      <td>34.1</td>\n",
              "      <td>52.0</td>\n",
              "      <td>1234.0</td>\n",
              "      <td>223.0</td>\n",
              "      <td>543.0</td>\n",
              "      <td>213.0</td>\n",
              "      <td>6.0</td>\n",
              "      <td>423.7</td>\n",
              "    </tr>\n",
              "    <tr>\n",
              "      <th>5390</th>\n",
              "      <td>-118.2</td>\n",
              "      <td>33.9</td>\n",
              "      <td>38.0</td>\n",
              "      <td>901.0</td>\n",
              "      <td>205.0</td>\n",
              "      <td>760.0</td>\n",
              "      <td>208.0</td>\n",
              "      <td>3.0</td>\n",
              "      <td>147.4</td>\n",
              "    </tr>\n",
              "    <tr>\n",
              "      <th>16767</th>\n",
              "      <td>-123.0</td>\n",
              "      <td>38.7</td>\n",
              "      <td>37.0</td>\n",
              "      <td>1548.0</td>\n",
              "      <td>328.0</td>\n",
              "      <td>863.0</td>\n",
              "      <td>287.0</td>\n",
              "      <td>3.0</td>\n",
              "      <td>151.3</td>\n",
              "    </tr>\n",
              "    <tr>\n",
              "      <th>12390</th>\n",
              "      <td>-121.5</td>\n",
              "      <td>38.5</td>\n",
              "      <td>14.0</td>\n",
              "      <td>5490.0</td>\n",
              "      <td>851.0</td>\n",
              "      <td>2415.0</td>\n",
              "      <td>837.0</td>\n",
              "      <td>6.5</td>\n",
              "      <td>216.8</td>\n",
              "    </tr>\n",
              "    <tr>\n",
              "      <th>...</th>\n",
              "      <td>...</td>\n",
              "      <td>...</td>\n",
              "      <td>...</td>\n",
              "      <td>...</td>\n",
              "      <td>...</td>\n",
              "      <td>...</td>\n",
              "      <td>...</td>\n",
              "      <td>...</td>\n",
              "      <td>...</td>\n",
              "    </tr>\n",
              "    <tr>\n",
              "      <th>12771</th>\n",
              "      <td>-121.8</td>\n",
              "      <td>36.7</td>\n",
              "      <td>22.0</td>\n",
              "      <td>6912.0</td>\n",
              "      <td>1513.0</td>\n",
              "      <td>3794.0</td>\n",
              "      <td>1455.0</td>\n",
              "      <td>3.1</td>\n",
              "      <td>168.3</td>\n",
              "    </tr>\n",
              "    <tr>\n",
              "      <th>13068</th>\n",
              "      <td>-121.9</td>\n",
              "      <td>37.4</td>\n",
              "      <td>27.0</td>\n",
              "      <td>3500.0</td>\n",
              "      <td>1036.0</td>\n",
              "      <td>3019.0</td>\n",
              "      <td>955.0</td>\n",
              "      <td>2.9</td>\n",
              "      <td>153.7</td>\n",
              "    </tr>\n",
              "    <tr>\n",
              "      <th>14809</th>\n",
              "      <td>-122.2</td>\n",
              "      <td>37.8</td>\n",
              "      <td>52.0</td>\n",
              "      <td>2375.0</td>\n",
              "      <td>333.0</td>\n",
              "      <td>813.0</td>\n",
              "      <td>350.0</td>\n",
              "      <td>7.1</td>\n",
              "      <td>331.4</td>\n",
              "    </tr>\n",
              "    <tr>\n",
              "      <th>13945</th>\n",
              "      <td>-122.0</td>\n",
              "      <td>37.0</td>\n",
              "      <td>37.0</td>\n",
              "      <td>2817.0</td>\n",
              "      <td>716.0</td>\n",
              "      <td>1341.0</td>\n",
              "      <td>662.0</td>\n",
              "      <td>2.2</td>\n",
              "      <td>255.4</td>\n",
              "    </tr>\n",
              "    <tr>\n",
              "      <th>8283</th>\n",
              "      <td>-118.5</td>\n",
              "      <td>34.2</td>\n",
              "      <td>33.0</td>\n",
              "      <td>2544.0</td>\n",
              "      <td>500.0</td>\n",
              "      <td>1035.0</td>\n",
              "      <td>492.0</td>\n",
              "      <td>4.5</td>\n",
              "      <td>314.8</td>\n",
              "    </tr>\n",
              "  </tbody>\n",
              "</table>\n",
              "<p>17000 rows × 9 columns</p>\n",
              "</div>"
            ],
            "text/plain": [
              "       longitude  latitude  ...  median_income  median_house_value\n",
              "12808     -121.8      38.0  ...            6.5               166.8\n",
              "7616      -118.4      34.1  ...            6.0               423.7\n",
              "5390      -118.2      33.9  ...            3.0               147.4\n",
              "16767     -123.0      38.7  ...            3.0               151.3\n",
              "12390     -121.5      38.5  ...            6.5               216.8\n",
              "...          ...       ...  ...            ...                 ...\n",
              "12771     -121.8      36.7  ...            3.1               168.3\n",
              "13068     -121.9      37.4  ...            2.9               153.7\n",
              "14809     -122.2      37.8  ...            7.1               331.4\n",
              "13945     -122.0      37.0  ...            2.2               255.4\n",
              "8283      -118.5      34.2  ...            4.5               314.8\n",
              "\n",
              "[17000 rows x 9 columns]"
            ]
          },
          "metadata": {
            "tags": []
          },
          "execution_count": 3
        }
      ]
    },
    {
      "cell_type": "markdown",
      "metadata": {
        "id": "HzzlSs3PtTmt",
        "colab_type": "text",
        "slideshow": {
          "slide_type": "-"
        }
      },
      "source": [
        "## Examine the Data\n",
        "\n",
        "It's a good idea to get to know your data a little bit before you work with it.\n",
        "\n",
        "We'll print out a quick summary of a few useful statistics on each column: count of examples, mean, standard deviation, max, min, and various quantiles."
      ]
    },
    {
      "cell_type": "code",
      "metadata": {
        "id": "gzb10yoVrydW",
        "colab_type": "code",
        "slideshow": {
          "slide_type": "slide"
        },
        "cellView": "both",
        "colab": {
          "test": {
            "output": "ignore",
            "timeout": 600
          },
          "base_uri": "https://localhost:8080/",
          "height": 297
        },
        "outputId": "2f3109b7-0506-41ff-f1c9-8e9332dc6b4c"
      },
      "source": [
        "california_housing_dataframe.describe()"
      ],
      "execution_count": 4,
      "outputs": [
        {
          "output_type": "execute_result",
          "data": {
            "text/html": [
              "<div>\n",
              "<style scoped>\n",
              "    .dataframe tbody tr th:only-of-type {\n",
              "        vertical-align: middle;\n",
              "    }\n",
              "\n",
              "    .dataframe tbody tr th {\n",
              "        vertical-align: top;\n",
              "    }\n",
              "\n",
              "    .dataframe thead th {\n",
              "        text-align: right;\n",
              "    }\n",
              "</style>\n",
              "<table border=\"1\" class=\"dataframe\">\n",
              "  <thead>\n",
              "    <tr style=\"text-align: right;\">\n",
              "      <th></th>\n",
              "      <th>longitude</th>\n",
              "      <th>latitude</th>\n",
              "      <th>housing_median_age</th>\n",
              "      <th>total_rooms</th>\n",
              "      <th>total_bedrooms</th>\n",
              "      <th>population</th>\n",
              "      <th>households</th>\n",
              "      <th>median_income</th>\n",
              "      <th>median_house_value</th>\n",
              "    </tr>\n",
              "  </thead>\n",
              "  <tbody>\n",
              "    <tr>\n",
              "      <th>count</th>\n",
              "      <td>17000.0</td>\n",
              "      <td>17000.0</td>\n",
              "      <td>17000.0</td>\n",
              "      <td>17000.0</td>\n",
              "      <td>17000.0</td>\n",
              "      <td>17000.0</td>\n",
              "      <td>17000.0</td>\n",
              "      <td>17000.0</td>\n",
              "      <td>17000.0</td>\n",
              "    </tr>\n",
              "    <tr>\n",
              "      <th>mean</th>\n",
              "      <td>-119.6</td>\n",
              "      <td>35.6</td>\n",
              "      <td>28.6</td>\n",
              "      <td>2643.7</td>\n",
              "      <td>539.4</td>\n",
              "      <td>1429.6</td>\n",
              "      <td>501.2</td>\n",
              "      <td>3.9</td>\n",
              "      <td>207.3</td>\n",
              "    </tr>\n",
              "    <tr>\n",
              "      <th>std</th>\n",
              "      <td>2.0</td>\n",
              "      <td>2.1</td>\n",
              "      <td>12.6</td>\n",
              "      <td>2179.9</td>\n",
              "      <td>421.5</td>\n",
              "      <td>1147.9</td>\n",
              "      <td>384.5</td>\n",
              "      <td>1.9</td>\n",
              "      <td>116.0</td>\n",
              "    </tr>\n",
              "    <tr>\n",
              "      <th>min</th>\n",
              "      <td>-124.3</td>\n",
              "      <td>32.5</td>\n",
              "      <td>1.0</td>\n",
              "      <td>2.0</td>\n",
              "      <td>1.0</td>\n",
              "      <td>3.0</td>\n",
              "      <td>1.0</td>\n",
              "      <td>0.5</td>\n",
              "      <td>15.0</td>\n",
              "    </tr>\n",
              "    <tr>\n",
              "      <th>25%</th>\n",
              "      <td>-121.8</td>\n",
              "      <td>33.9</td>\n",
              "      <td>18.0</td>\n",
              "      <td>1462.0</td>\n",
              "      <td>297.0</td>\n",
              "      <td>790.0</td>\n",
              "      <td>282.0</td>\n",
              "      <td>2.6</td>\n",
              "      <td>119.4</td>\n",
              "    </tr>\n",
              "    <tr>\n",
              "      <th>50%</th>\n",
              "      <td>-118.5</td>\n",
              "      <td>34.2</td>\n",
              "      <td>29.0</td>\n",
              "      <td>2127.0</td>\n",
              "      <td>434.0</td>\n",
              "      <td>1167.0</td>\n",
              "      <td>409.0</td>\n",
              "      <td>3.5</td>\n",
              "      <td>180.4</td>\n",
              "    </tr>\n",
              "    <tr>\n",
              "      <th>75%</th>\n",
              "      <td>-118.0</td>\n",
              "      <td>37.7</td>\n",
              "      <td>37.0</td>\n",
              "      <td>3151.2</td>\n",
              "      <td>648.2</td>\n",
              "      <td>1721.0</td>\n",
              "      <td>605.2</td>\n",
              "      <td>4.8</td>\n",
              "      <td>265.0</td>\n",
              "    </tr>\n",
              "    <tr>\n",
              "      <th>max</th>\n",
              "      <td>-114.3</td>\n",
              "      <td>42.0</td>\n",
              "      <td>52.0</td>\n",
              "      <td>37937.0</td>\n",
              "      <td>6445.0</td>\n",
              "      <td>35682.0</td>\n",
              "      <td>6082.0</td>\n",
              "      <td>15.0</td>\n",
              "      <td>500.0</td>\n",
              "    </tr>\n",
              "  </tbody>\n",
              "</table>\n",
              "</div>"
            ],
            "text/plain": [
              "       longitude  latitude  ...  median_income  median_house_value\n",
              "count    17000.0   17000.0  ...        17000.0             17000.0\n",
              "mean      -119.6      35.6  ...            3.9               207.3\n",
              "std          2.0       2.1  ...            1.9               116.0\n",
              "min       -124.3      32.5  ...            0.5                15.0\n",
              "25%       -121.8      33.9  ...            2.6               119.4\n",
              "50%       -118.5      34.2  ...            3.5               180.4\n",
              "75%       -118.0      37.7  ...            4.8               265.0\n",
              "max       -114.3      42.0  ...           15.0               500.0\n",
              "\n",
              "[8 rows x 9 columns]"
            ]
          },
          "metadata": {
            "tags": []
          },
          "execution_count": 4
        }
      ]
    },
    {
      "cell_type": "markdown",
      "metadata": {
        "id": "Lr6wYl2bt2Ep",
        "colab_type": "text",
        "slideshow": {
          "slide_type": "-"
        }
      },
      "source": [
        "## Build the First Model\n",
        "\n",
        "In this exercise, we'll try to predict `median_house_value`, which will be our label (sometimes also called a target). We'll use `total_rooms` as our input feature.\n",
        "\n",
        "**NOTE:** Our data is at the city block level, so this feature represents the total number of rooms in that block.\n",
        "\n",
        "To train our model, we'll use the [LinearRegressor](https://www.tensorflow.org/api_docs/python/tf/estimator/LinearRegressor) interface provided by the TensorFlow [Estimator](https://www.tensorflow.org/get_started/estimator) API. This API takes care of a lot of the low-level model plumbing, and exposes convenient methods for performing model training, evaluation, and inference."
      ]
    },
    {
      "cell_type": "markdown",
      "metadata": {
        "id": "0cpcsieFhsNI",
        "colab_type": "text"
      },
      "source": [
        "### Step 1: Define Features and Configure Feature Columns"
      ]
    },
    {
      "cell_type": "markdown",
      "metadata": {
        "id": "EL8-9d4ZJNR7",
        "colab_type": "text"
      },
      "source": [
        "In order to import our training data into TensorFlow, we need to specify what type of data each feature contains. There are two main types of data we'll use in this and future exercises:\n",
        "\n",
        "* **Categorical Data**: Data that is textual. In this exercise, our housing data set does not contain any categorical features, but examples you might see would be the home style, the words in a real-estate ad.\n",
        "\n",
        "* **Numerical Data**: Data that is a number (integer or float) and that you want to treat as a number. As we will discuss more later sometimes you might want to treat numerical data (e.g., a postal code) as if it were categorical.\n",
        "\n",
        "In TensorFlow, we indicate a feature's data type using a construct called a **feature column**. Feature columns store only a description of the feature data; they do not contain the feature data itself.\n",
        "\n",
        "To start, we're going to use just one numeric input feature, `total_rooms`. The following code pulls the `total_rooms` data from our `california_housing_dataframe` and defines the feature column using `numeric_column`, which specifies its data is numeric:"
      ]
    },
    {
      "cell_type": "code",
      "metadata": {
        "id": "rhEbFCZ86cDZ",
        "colab_type": "code",
        "colab": {}
      },
      "source": [
        "# Define the input feature: total_rooms.\n",
        "my_feature = california_housing_dataframe[[\"total_rooms\"]]\n",
        "\n",
        "# Configure a numeric feature column for total_rooms.\n",
        "feature_columns = [tf.feature_column.numeric_column(\"total_rooms\")]"
      ],
      "execution_count": 0,
      "outputs": []
    },
    {
      "cell_type": "markdown",
      "metadata": {
        "id": "K_3S8teX7Rd2",
        "colab_type": "text"
      },
      "source": [
        "**NOTE:** The shape of our `total_rooms` data is a one-dimensional array (a list of the total number of rooms for each block). This is the default shape for `numeric_column`, so we don't have to pass it as an argument."
      ]
    },
    {
      "cell_type": "markdown",
      "metadata": {
        "id": "UMl3qrU5MGV6",
        "colab_type": "text"
      },
      "source": [
        "### Step 2: Define the Target"
      ]
    },
    {
      "cell_type": "markdown",
      "metadata": {
        "id": "cw4nrfcB7kyk",
        "colab_type": "text"
      },
      "source": [
        "Next, we'll define our target, which is `median_house_value`. Again, we can pull it from our `california_housing_dataframe`:"
      ]
    },
    {
      "cell_type": "code",
      "metadata": {
        "id": "l1NvvNkH8Kbt",
        "colab_type": "code",
        "colab": {}
      },
      "source": [
        "# Define the label.\n",
        "targets = california_housing_dataframe[\"median_house_value\"]"
      ],
      "execution_count": 0,
      "outputs": []
    },
    {
      "cell_type": "markdown",
      "metadata": {
        "id": "4M-rTFHL2UkA",
        "colab_type": "text"
      },
      "source": [
        "### Step 3: Configure the LinearRegressor"
      ]
    },
    {
      "cell_type": "markdown",
      "metadata": {
        "id": "fUfGQUNp7jdL",
        "colab_type": "text"
      },
      "source": [
        "Next, we'll configure a linear regression model using LinearRegressor. We'll train this model using the `GradientDescentOptimizer`, which implements Mini-Batch Stochastic Gradient Descent (SGD). The `learning_rate` argument controls the size of the gradient step.\n",
        "\n",
        "**NOTE:** To be safe, we also apply [gradient clipping](https://developers.google.com/machine-learning/glossary/#gradient_clipping) to our optimizer via `clip_gradients_by_norm`. Gradient clipping ensures the magnitude of the gradients do not become too large during training, which can cause gradient descent to fail. "
      ]
    },
    {
      "cell_type": "code",
      "metadata": {
        "id": "ubhtW-NGU802",
        "colab_type": "code",
        "colab": {
          "base_uri": "https://localhost:8080/",
          "height": 136
        },
        "outputId": "90aa050b-65fb-4134-bb8b-b32869d92fbe"
      },
      "source": [
        "# Use gradient descent as the optimizer for training the model.\n",
        "my_optimizer=tf.train.GradientDescentOptimizer(learning_rate=0.0000001)\n",
        "my_optimizer = tf.contrib.estimator.clip_gradients_by_norm(my_optimizer, 5.0)\n",
        "\n",
        "# Configure the linear regression model with our feature columns and optimizer.\n",
        "# Set a learning rate of 0.0000001 for Gradient Descent.\n",
        "linear_regressor = tf.estimator.LinearRegressor(\n",
        "    feature_columns=feature_columns,\n",
        "    optimizer=my_optimizer\n",
        ")"
      ],
      "execution_count": 7,
      "outputs": [
        {
          "output_type": "stream",
          "text": [
            "\n",
            "WARNING: The TensorFlow contrib module will not be included in TensorFlow 2.0.\n",
            "For more information, please see:\n",
            "  * https://github.com/tensorflow/community/blob/master/rfcs/20180907-contrib-sunset.md\n",
            "  * https://github.com/tensorflow/addons\n",
            "If you depend on functionality not listed there, please file an issue.\n",
            "\n"
          ],
          "name": "stdout"
        }
      ]
    },
    {
      "cell_type": "markdown",
      "metadata": {
        "id": "-0IztwdK2f3F",
        "colab_type": "text"
      },
      "source": [
        "### Step 4: Define the Input Function"
      ]
    },
    {
      "cell_type": "markdown",
      "metadata": {
        "id": "S5M5j6xSCHxx",
        "colab_type": "text"
      },
      "source": [
        "To import our California housing data into our `LinearRegressor`, we need to define an input function, which instructs TensorFlow how to preprocess\n",
        "the data, as well as how to batch, shuffle, and repeat it during model training.\n",
        "\n",
        "First, we'll convert our *pandas* feature data into a dict of NumPy arrays. We can then use the TensorFlow [Dataset API](https://www.tensorflow.org/programmers_guide/datasets) to construct a dataset object from our data, and then break\n",
        "our data into batches of `batch_size`, to be repeated for the specified number of epochs (num_epochs). \n",
        "\n",
        "**NOTE:** When the default value of `num_epochs=None` is passed to `repeat()`, the input data will be repeated indefinitely.\n",
        "\n",
        "Next, if `shuffle` is set to `True`, we'll shuffle the data so that it's passed to the model randomly during training. The `buffer_size` argument specifies\n",
        "the size of the dataset from which `shuffle` will randomly sample.\n",
        "\n",
        "Finally, our input function constructs an iterator for the dataset and returns the next batch of data to the LinearRegressor."
      ]
    },
    {
      "cell_type": "code",
      "metadata": {
        "id": "RKZ9zNcHJtwc",
        "colab_type": "code",
        "colab": {}
      },
      "source": [
        "def my_input_fn(features, targets, batch_size=1, shuffle=True, num_epochs=None):\n",
        "    \"\"\"Trains a linear regression model of one feature.\n",
        "  \n",
        "    Args:\n",
        "      features: pandas DataFrame of features\n",
        "      targets: pandas DataFrame of targets\n",
        "      batch_size: Size of batches to be passed to the model\n",
        "      shuffle: True or False. Whether to shuffle the data.\n",
        "      num_epochs: Number of epochs for which data should be repeated. None = repeat indefinitely\n",
        "    Returns:\n",
        "      Tuple of (features, labels) for next data batch\n",
        "    \"\"\"\n",
        "  \n",
        "    # Convert pandas data into a dict of np arrays.\n",
        "    features = {key:np.array(value) for key,value in dict(features).items()}                                           \n",
        " \n",
        "    # Construct a dataset, and configure batching/repeating.\n",
        "    ds = Dataset.from_tensor_slices((features,targets)) # warning: 2GB limit\n",
        "    ds = ds.batch(batch_size).repeat(num_epochs)\n",
        "    \n",
        "    # Shuffle the data, if specified.\n",
        "    if shuffle:\n",
        "      ds = ds.shuffle(buffer_size=10000)\n",
        "    \n",
        "    # Return the next batch of data.\n",
        "    features, labels = ds.make_one_shot_iterator().get_next()\n",
        "    return features, labels"
      ],
      "execution_count": 0,
      "outputs": []
    },
    {
      "cell_type": "markdown",
      "metadata": {
        "id": "wwa6UeA1V5F_",
        "colab_type": "text"
      },
      "source": [
        "**NOTE:** We'll continue to use this same input function in later exercises. For more\n",
        "detailed documentation of input functions and the `Dataset` API, see the [TensorFlow Programmer's Guide](https://www.tensorflow.org/programmers_guide/datasets)."
      ]
    },
    {
      "cell_type": "markdown",
      "metadata": {
        "id": "4YS50CQb2ooO",
        "colab_type": "text"
      },
      "source": [
        "### Step 5: Train the Model"
      ]
    },
    {
      "cell_type": "markdown",
      "metadata": {
        "id": "yP92XkzhU803",
        "colab_type": "text"
      },
      "source": [
        "We can now call `train()` on our `linear_regressor` to train the model. We'll wrap `my_input_fn` in a `lambda`\n",
        "so we can pass in `my_feature` and `targets` as arguments (see this [TensorFlow input function tutorial](https://www.tensorflow.org/get_started/input_fn#passing_input_fn_data_to_your_model) for more details), and to start, we'll\n",
        "train for 100 steps."
      ]
    },
    {
      "cell_type": "code",
      "metadata": {
        "id": "5M-Kt6w8U803",
        "colab_type": "code",
        "colab": {}
      },
      "source": [
        "_ = linear_regressor.train(\n",
        "    input_fn = lambda:my_input_fn(my_feature, targets),\n",
        "    steps=100\n",
        ")"
      ],
      "execution_count": 0,
      "outputs": []
    },
    {
      "cell_type": "markdown",
      "metadata": {
        "id": "7Nwxqxlx2sOv",
        "colab_type": "text"
      },
      "source": [
        "### Step 6: Evaluate the Model"
      ]
    },
    {
      "cell_type": "markdown",
      "metadata": {
        "id": "KoDaF2dlJQG5",
        "colab_type": "text"
      },
      "source": [
        "Let's make predictions on that training data, to see how well our model fit it during training.\n",
        "\n",
        "**NOTE:** Training error measures how well your model fits the training data, but it **_does not_** measure how well your model **_generalizes to new data_**. In later exercises, you'll explore how to split your data to evaluate your model's ability to generalize.\n"
      ]
    },
    {
      "cell_type": "code",
      "metadata": {
        "id": "pDIxp6vcU809",
        "colab_type": "code",
        "colab": {
          "base_uri": "https://localhost:8080/",
          "height": 51
        },
        "outputId": "6c0489ed-7266-4283-e07b-8fbbdb909ab3"
      },
      "source": [
        "# Create an input function for predictions.\n",
        "# Note: Since we're making just one prediction for each example, we don't \n",
        "# need to repeat or shuffle the data here.\n",
        "prediction_input_fn =lambda: my_input_fn(my_feature, targets, num_epochs=1, shuffle=False)\n",
        "\n",
        "# Call predict() on the linear_regressor to make predictions.\n",
        "predictions = linear_regressor.predict(input_fn=prediction_input_fn)\n",
        "\n",
        "# Format predictions as a NumPy array, so we can calculate error metrics.\n",
        "predictions = np.array([item['predictions'][0] for item in predictions])\n",
        "\n",
        "# Print Mean Squared Error and Root Mean Squared Error.\n",
        "mean_squared_error = metrics.mean_squared_error(predictions, targets)\n",
        "root_mean_squared_error = math.sqrt(mean_squared_error)\n",
        "print(\"Mean Squared Error (on training data): %0.3f\" % mean_squared_error)\n",
        "print(\"Root Mean Squared Error (on training data): %0.3f\" % root_mean_squared_error)"
      ],
      "execution_count": 10,
      "outputs": [
        {
          "output_type": "stream",
          "text": [
            "Mean Squared Error (on training data): 56367.025\n",
            "Root Mean Squared Error (on training data): 237.417\n"
          ],
          "name": "stdout"
        }
      ]
    },
    {
      "cell_type": "markdown",
      "metadata": {
        "id": "AKWstXXPzOVz",
        "colab_type": "text",
        "slideshow": {
          "slide_type": "slide"
        }
      },
      "source": [
        "Is this a good model? How would you judge how large this error is?\n",
        "\n",
        "Mean Squared Error (MSE) can be hard to interpret, so we often look at Root Mean Squared Error (RMSE)\n",
        "instead.  A nice property of RMSE is that it can be interpreted on the same scale as the original targets.\n",
        "\n",
        "Let's compare the RMSE to the difference of the min and max of our targets:"
      ]
    },
    {
      "cell_type": "code",
      "metadata": {
        "id": "7UwqGbbxP53O",
        "colab_type": "code",
        "colab": {
          "base_uri": "https://localhost:8080/",
          "height": 85
        },
        "outputId": "81e01a8d-7b42-42dc-e462-58203f85b27d"
      },
      "source": [
        "min_house_value = california_housing_dataframe[\"median_house_value\"].min()\n",
        "max_house_value = california_housing_dataframe[\"median_house_value\"].max()\n",
        "min_max_difference = max_house_value - min_house_value\n",
        "\n",
        "print(\"Min. Median House Value: %0.3f\" % min_house_value)\n",
        "print(\"Max. Median House Value: %0.3f\" % max_house_value)\n",
        "print(\"Difference between Min. and Max.: %0.3f\" % min_max_difference)\n",
        "print(\"Root Mean Squared Error: %0.3f\" % root_mean_squared_error)"
      ],
      "execution_count": 11,
      "outputs": [
        {
          "output_type": "stream",
          "text": [
            "Min. Median House Value: 14.999\n",
            "Max. Median House Value: 500.001\n",
            "Difference between Min. and Max.: 485.002\n",
            "Root Mean Squared Error: 237.417\n"
          ],
          "name": "stdout"
        }
      ]
    },
    {
      "cell_type": "markdown",
      "metadata": {
        "id": "JigJr0C7Pzit",
        "colab_type": "text"
      },
      "source": [
        "Our error spans nearly half the range of the target values. Can we do better?\n",
        "\n",
        "This is the question that nags at every model developer. Let's develop some basic strategies to reduce model error.\n",
        "\n",
        "The first thing we can do is take a look at how well our predictions match our targets, in terms of overall summary statistics."
      ]
    },
    {
      "cell_type": "code",
      "metadata": {
        "id": "941nclxbzqGH",
        "colab_type": "code",
        "slideshow": {
          "slide_type": "-"
        },
        "cellView": "both",
        "colab": {
          "test": {
            "output": "ignore",
            "timeout": 600
          },
          "base_uri": "https://localhost:8080/",
          "height": 297
        },
        "outputId": "cc88556d-6ef1-4041-eac4-e00be3ed326d"
      },
      "source": [
        "calibration_data = pd.DataFrame()\n",
        "calibration_data[\"predictions\"] = pd.Series(predictions)\n",
        "calibration_data[\"targets\"] = pd.Series(targets)\n",
        "calibration_data.describe()"
      ],
      "execution_count": 12,
      "outputs": [
        {
          "output_type": "execute_result",
          "data": {
            "text/html": [
              "<div>\n",
              "<style scoped>\n",
              "    .dataframe tbody tr th:only-of-type {\n",
              "        vertical-align: middle;\n",
              "    }\n",
              "\n",
              "    .dataframe tbody tr th {\n",
              "        vertical-align: top;\n",
              "    }\n",
              "\n",
              "    .dataframe thead th {\n",
              "        text-align: right;\n",
              "    }\n",
              "</style>\n",
              "<table border=\"1\" class=\"dataframe\">\n",
              "  <thead>\n",
              "    <tr style=\"text-align: right;\">\n",
              "      <th></th>\n",
              "      <th>predictions</th>\n",
              "      <th>targets</th>\n",
              "    </tr>\n",
              "  </thead>\n",
              "  <tbody>\n",
              "    <tr>\n",
              "      <th>count</th>\n",
              "      <td>17000.0</td>\n",
              "      <td>17000.0</td>\n",
              "    </tr>\n",
              "    <tr>\n",
              "      <th>mean</th>\n",
              "      <td>0.1</td>\n",
              "      <td>207.3</td>\n",
              "    </tr>\n",
              "    <tr>\n",
              "      <th>std</th>\n",
              "      <td>0.1</td>\n",
              "      <td>116.0</td>\n",
              "    </tr>\n",
              "    <tr>\n",
              "      <th>min</th>\n",
              "      <td>0.0</td>\n",
              "      <td>15.0</td>\n",
              "    </tr>\n",
              "    <tr>\n",
              "      <th>25%</th>\n",
              "      <td>0.1</td>\n",
              "      <td>119.4</td>\n",
              "    </tr>\n",
              "    <tr>\n",
              "      <th>50%</th>\n",
              "      <td>0.1</td>\n",
              "      <td>180.4</td>\n",
              "    </tr>\n",
              "    <tr>\n",
              "      <th>75%</th>\n",
              "      <td>0.2</td>\n",
              "      <td>265.0</td>\n",
              "    </tr>\n",
              "    <tr>\n",
              "      <th>max</th>\n",
              "      <td>1.9</td>\n",
              "      <td>500.0</td>\n",
              "    </tr>\n",
              "  </tbody>\n",
              "</table>\n",
              "</div>"
            ],
            "text/plain": [
              "       predictions  targets\n",
              "count      17000.0  17000.0\n",
              "mean           0.1    207.3\n",
              "std            0.1    116.0\n",
              "min            0.0     15.0\n",
              "25%            0.1    119.4\n",
              "50%            0.1    180.4\n",
              "75%            0.2    265.0\n",
              "max            1.9    500.0"
            ]
          },
          "metadata": {
            "tags": []
          },
          "execution_count": 12
        }
      ]
    },
    {
      "cell_type": "markdown",
      "metadata": {
        "id": "E2-bf8Hq36y8",
        "colab_type": "text",
        "slideshow": {
          "slide_type": "-"
        }
      },
      "source": [
        "Okay, maybe this information is helpful. How does the mean value compare to the model's RMSE? How about the various quantiles?\n",
        "\n",
        "We can also visualize the data and the line we've learned.  Recall that linear regression on a single feature can be drawn as a line mapping input *x* to output *y*.\n",
        "\n",
        "First, we'll get a uniform random sample of the data so we can make a readable scatter plot."
      ]
    },
    {
      "cell_type": "code",
      "metadata": {
        "id": "SGRIi3mAU81H",
        "colab_type": "code",
        "colab": {}
      },
      "source": [
        "sample = california_housing_dataframe.sample(n=300)"
      ],
      "execution_count": 0,
      "outputs": []
    },
    {
      "cell_type": "markdown",
      "metadata": {
        "id": "N-JwuJBKU81J",
        "colab_type": "text"
      },
      "source": [
        "Next, we'll plot the line we've learned, drawing from the model's bias term and feature weight, together with the scatter plot. The line will show up red."
      ]
    },
    {
      "cell_type": "code",
      "metadata": {
        "id": "7G12E76-339G",
        "colab_type": "code",
        "slideshow": {
          "slide_type": "-"
        },
        "cellView": "both",
        "colab": {
          "test": {
            "output": "ignore",
            "timeout": 600
          },
          "base_uri": "https://localhost:8080/",
          "height": 284
        },
        "outputId": "9c38e67d-693d-46e4-f47d-6ed5baeac31f"
      },
      "source": [
        "# Get the min and max total_rooms values.\n",
        "x_0 = sample[\"total_rooms\"].min()\n",
        "x_1 = sample[\"total_rooms\"].max()\n",
        "\n",
        "# Retrieve the final weight and bias generated during training.\n",
        "weight = linear_regressor.get_variable_value('linear/linear_model/total_rooms/weights')[0]\n",
        "bias = linear_regressor.get_variable_value('linear/linear_model/bias_weights')\n",
        "\n",
        "# Get the predicted median_house_values for the min and max total_rooms values.\n",
        "y_0 = weight * x_0 + bias \n",
        "y_1 = weight * x_1 + bias\n",
        "\n",
        "# Plot our regression line from (x_0, y_0) to (x_1, y_1).\n",
        "plt.plot([x_0, x_1], [y_0, y_1], c='r')\n",
        "\n",
        "# Label the graph axes.\n",
        "plt.ylabel(\"median_house_value\")\n",
        "plt.xlabel(\"total_rooms\")\n",
        "\n",
        "# Plot a scatter plot from our data sample.\n",
        "plt.scatter(sample[\"total_rooms\"], sample[\"median_house_value\"])\n",
        "\n",
        "# Display graph.\n",
        "plt.show()"
      ],
      "execution_count": 14,
      "outputs": [
        {
          "output_type": "display_data",
          "data": {
            "image/png": "iVBORw0KGgoAAAANSUhEUgAAAY4AAAELCAYAAADOeWEXAAAABHNCSVQICAgIfAhkiAAAAAlwSFlz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\npDiEEEJk4v8Dt5kWOLRtf1cAAAAASUVORK5CYII=\n",
            "text/plain": [
              "<Figure size 432x288 with 1 Axes>"
            ]
          },
          "metadata": {
            "tags": []
          }
        }
      ]
    },
    {
      "cell_type": "markdown",
      "metadata": {
        "id": "t0lRt4USU81L",
        "colab_type": "text"
      },
      "source": [
        "This initial line looks way off.  See if you can look back at the summary stats and see the same information encoded there.\n",
        "\n",
        "Together, these initial sanity checks suggest we may be able to find a much better line."
      ]
    },
    {
      "cell_type": "markdown",
      "metadata": {
        "id": "AZWF67uv0HTG",
        "colab_type": "text",
        "slideshow": {
          "slide_type": "slide"
        }
      },
      "source": [
        "## Tweak the Model Hyperparameters\n",
        "For this exercise, we've put all the above code in a single function for convenience. You can call the function with different parameters to see the effect.\n",
        "\n",
        "In this function, we'll proceed in 10 evenly divided periods so that we can observe the model improvement at each period.\n",
        "\n",
        "For each period, we'll compute and graph training loss.  This may help you judge when a model is converged, or if it needs more iterations.\n",
        "\n",
        "We'll also plot the feature weight and bias term values learned by the model over time.  This is another way to see how things converge."
      ]
    },
    {
      "cell_type": "code",
      "metadata": {
        "id": "wgSMeD5UU81N",
        "colab_type": "code",
        "colab": {}
      },
      "source": [
        "def train_model(learning_rate, steps, batch_size, input_feature=\"total_rooms\"):\n",
        "  \"\"\"Trains a linear regression model of one feature.\n",
        "  \n",
        "  Args:\n",
        "    learning_rate: A `float`, the learning rate.\n",
        "    steps: A non-zero `int`, the total number of training steps. A training step\n",
        "      consists of a forward and backward pass using a single batch.\n",
        "    batch_size: A non-zero `int`, the batch size.\n",
        "    input_feature: A `string` specifying a column from `california_housing_dataframe`\n",
        "      to use as input feature.\n",
        "  \"\"\"\n",
        "  \n",
        "  periods = 10\n",
        "  steps_per_period = steps / periods\n",
        "\n",
        "  my_feature = input_feature\n",
        "  my_feature_data = california_housing_dataframe[[my_feature]]\n",
        "  my_label = \"median_house_value\"\n",
        "  targets = california_housing_dataframe[my_label]\n",
        "\n",
        "  # Create feature columns.\n",
        "  feature_columns = [tf.feature_column.numeric_column(my_feature)]\n",
        "  \n",
        "  # Create input functions.\n",
        "  training_input_fn = lambda:my_input_fn(my_feature_data, targets, batch_size=batch_size)\n",
        "  prediction_input_fn = lambda: my_input_fn(my_feature_data, targets, num_epochs=1, shuffle=False)\n",
        "  \n",
        "  # Create a linear regressor object.\n",
        "  my_optimizer = tf.train.GradientDescentOptimizer(learning_rate=learning_rate)\n",
        "  my_optimizer = tf.contrib.estimator.clip_gradients_by_norm(my_optimizer, 5.0)\n",
        "  linear_regressor = tf.estimator.LinearRegressor(\n",
        "      feature_columns=feature_columns,\n",
        "      optimizer=my_optimizer\n",
        "  )\n",
        "\n",
        "  # Set up to plot the state of our model's line each period.\n",
        "  plt.figure(figsize=(15, 6))\n",
        "  plt.subplot(1, 2, 1)\n",
        "  plt.title(\"Learned Line by Period\")\n",
        "  plt.ylabel(my_label)\n",
        "  plt.xlabel(my_feature)\n",
        "  sample = california_housing_dataframe.sample(n=300)\n",
        "  plt.scatter(sample[my_feature], sample[my_label])\n",
        "  colors = [cm.coolwarm(x) for x in np.linspace(-1, 1, periods)]\n",
        "\n",
        "  # Train the model, but do so inside a loop so that we can periodically assess\n",
        "  # loss metrics.\n",
        "  print(\"Training model...\")\n",
        "  print(\"RMSE (on training data):\")\n",
        "  root_mean_squared_errors = []\n",
        "  for period in range (0, periods):\n",
        "    # Train the model, starting from the prior state.\n",
        "    linear_regressor.train(\n",
        "        input_fn=training_input_fn,\n",
        "        steps=steps_per_period\n",
        "    )\n",
        "    # Take a break and compute predictions.\n",
        "    predictions = linear_regressor.predict(input_fn=prediction_input_fn)\n",
        "    predictions = np.array([item['predictions'][0] for item in predictions])\n",
        "    \n",
        "    # Compute loss.\n",
        "    root_mean_squared_error = math.sqrt(\n",
        "        metrics.mean_squared_error(predictions, targets))\n",
        "    # Occasionally print the current loss.\n",
        "    print(\"  period %02d : %0.2f\" % (period, root_mean_squared_error))\n",
        "    # Add the loss metrics from this period to our list.\n",
        "    root_mean_squared_errors.append(root_mean_squared_error)\n",
        "    # Finally, track the weights and biases over time.\n",
        "    # Apply some math to ensure that the data and line are plotted neatly.\n",
        "    y_extents = np.array([0, sample[my_label].max()])\n",
        "    \n",
        "    weight = linear_regressor.get_variable_value('linear/linear_model/%s/weights' % input_feature)[0]\n",
        "    bias = linear_regressor.get_variable_value('linear/linear_model/bias_weights')\n",
        "\n",
        "    x_extents = (y_extents - bias) / weight\n",
        "    x_extents = np.maximum(np.minimum(x_extents,\n",
        "                                      sample[my_feature].max()),\n",
        "                           sample[my_feature].min())\n",
        "    y_extents = weight * x_extents + bias\n",
        "    plt.plot(x_extents, y_extents, color=colors[period]) \n",
        "  print(\"Model training finished.\")\n",
        "\n",
        "  # Output a graph of loss metrics over periods.\n",
        "  plt.subplot(1, 2, 2)\n",
        "  plt.ylabel('RMSE')\n",
        "  plt.xlabel('Periods')\n",
        "  plt.title(\"Root Mean Squared Error vs. Periods\")\n",
        "  plt.tight_layout()\n",
        "  plt.plot(root_mean_squared_errors)\n",
        "\n",
        "  # Output a table with calibration data.\n",
        "  calibration_data = pd.DataFrame()\n",
        "  calibration_data[\"predictions\"] = pd.Series(predictions)\n",
        "  calibration_data[\"targets\"] = pd.Series(targets)\n",
        "  display.display(calibration_data.describe())\n",
        "\n",
        "  print(\"Final RMSE (on training data): %0.2f\" % root_mean_squared_error)"
      ],
      "execution_count": 0,
      "outputs": []
    },
    {
      "cell_type": "markdown",
      "metadata": {
        "id": "kg8A4ArBU81Q",
        "colab_type": "text"
      },
      "source": [
        "## Task 1:  Achieve an RMSE of 180 or Below\n",
        "\n",
        "Tweak the model hyperparameters to improve loss and better match the target distribution.\n",
        "If, after 5 minutes or so, you're having trouble beating a RMSE of 180, check the solution for a possible combination."
      ]
    },
    {
      "cell_type": "code",
      "metadata": {
        "id": "UzoZUSdLIolF",
        "colab_type": "code",
        "slideshow": {
          "slide_type": "slide"
        },
        "cellView": "both",
        "colab": {
          "test": {
            "output": "ignore",
            "timeout": 600
          },
          "base_uri": "https://localhost:8080/",
          "height": 959
        },
        "outputId": "8cc4f3a6-ce75-4095-94f7-072fc092cfe2"
      },
      "source": [
        "train_model(\n",
        "    learning_rate=0.00001,\n",
        "    steps=100,\n",
        "    batch_size=1\n",
        ")"
      ],
      "execution_count": 16,
      "outputs": [
        {
          "output_type": "stream",
          "text": [
            "Training model...\n",
            "RMSE (on training data):\n",
            "  period 00 : 236.32\n",
            "  period 01 : 235.11\n",
            "  period 02 : 233.90\n",
            "  period 03 : 232.70\n",
            "  period 04 : 231.50\n",
            "  period 05 : 230.31\n",
            "  period 06 : 229.13\n",
            "  period 07 : 227.96\n",
            "  period 08 : 226.79\n",
            "  period 09 : 225.63\n",
            "Model training finished.\n"
          ],
          "name": "stdout"
        },
        {
          "output_type": "display_data",
          "data": {
            "text/plain": [
              "       predictions  targets\n",
              "count      17000.0  17000.0\n",
              "mean          13.2    207.3\n",
              "std           10.9    116.0\n",
              "min            0.0     15.0\n",
              "25%            7.3    119.4\n",
              "50%           10.6    180.4\n",
              "75%           15.8    265.0\n",
              "max          189.7    500.0"
            ],
            "text/html": [
              "<div>\n",
              "<style scoped>\n",
              "    .dataframe tbody tr th:only-of-type {\n",
              "        vertical-align: middle;\n",
              "    }\n",
              "\n",
              "    .dataframe tbody tr th {\n",
              "        vertical-align: top;\n",
              "    }\n",
              "\n",
              "    .dataframe thead th {\n",
              "        text-align: right;\n",
              "    }\n",
              "</style>\n",
              "<table border=\"1\" class=\"dataframe\">\n",
              "  <thead>\n",
              "    <tr style=\"text-align: right;\">\n",
              "      <th></th>\n",
              "      <th>predictions</th>\n",
              "      <th>targets</th>\n",
              "    </tr>\n",
              "  </thead>\n",
              "  <tbody>\n",
              "    <tr>\n",
              "      <th>count</th>\n",
              "      <td>17000.0</td>\n",
              "      <td>17000.0</td>\n",
              "    </tr>\n",
              "    <tr>\n",
              "      <th>mean</th>\n",
              "      <td>13.2</td>\n",
              "      <td>207.3</td>\n",
              "    </tr>\n",
              "    <tr>\n",
              "      <th>std</th>\n",
              "      <td>10.9</td>\n",
              "      <td>116.0</td>\n",
              "    </tr>\n",
              "    <tr>\n",
              "      <th>min</th>\n",
              "      <td>0.0</td>\n",
              "      <td>15.0</td>\n",
              "    </tr>\n",
              "    <tr>\n",
              "      <th>25%</th>\n",
              "      <td>7.3</td>\n",
              "      <td>119.4</td>\n",
              "    </tr>\n",
              "    <tr>\n",
              "      <th>50%</th>\n",
              "      <td>10.6</td>\n",
              "      <td>180.4</td>\n",
              "    </tr>\n",
              "    <tr>\n",
              "      <th>75%</th>\n",
              "      <td>15.8</td>\n",
              "      <td>265.0</td>\n",
              "    </tr>\n",
              "    <tr>\n",
              "      <th>max</th>\n",
              "      <td>189.7</td>\n",
              "      <td>500.0</td>\n",
              "    </tr>\n",
              "  </tbody>\n",
              "</table>\n",
              "</div>"
            ]
          },
          "metadata": {
            "tags": []
          }
        },
        {
          "output_type": "stream",
          "text": [
            "Final RMSE (on training data): 225.63\n"
          ],
          "name": "stdout"
        },
        {
          "output_type": "display_data",
          "data": {
            "image/png": "iVBORw0KGgoAAAANSUhEUgAABCwAAAGoCAYAAACNC3T5AAAABHNCSVQICAgIfAhkiAAAAAlwSFlz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\nBxhk5TE7W8EiAAAAAElFTkSuQmCC\n",
            "text/plain": [
              "<Figure size 1080x432 with 2 Axes>"
            ]
          },
          "metadata": {
            "tags": []
          }
        }
      ]
    },
    {
      "cell_type": "markdown",
      "metadata": {
        "id": "ajVM7rkoYXeL",
        "colab_type": "text"
      },
      "source": [
        "### Solution\n"
      ]
    },
    {
      "cell_type": "code",
      "metadata": {
        "id": "T3zmldDwYy5c",
        "colab_type": "code",
        "colab": {
          "base_uri": "https://localhost:8080/",
          "height": 959
        },
        "outputId": "c4716452-9c5d-48a4-93a9-f77815ed4811"
      },
      "source": [
        "train_model(\n",
        "    learning_rate=0.00002,\n",
        "    steps=500,\n",
        "    batch_size=5\n",
        ")"
      ],
      "execution_count": 17,
      "outputs": [
        {
          "output_type": "stream",
          "text": [
            "Training model...\n",
            "RMSE (on training data):\n",
            "  period 00 : 225.63\n",
            "  period 01 : 214.42\n",
            "  period 02 : 204.44\n",
            "  period 03 : 195.69\n",
            "  period 04 : 187.55\n",
            "  period 05 : 180.53\n",
            "  period 06 : 176.10\n",
            "  period 07 : 171.91\n",
            "  period 08 : 169.33\n",
            "  period 09 : 167.70\n",
            "Model training finished.\n"
          ],
          "name": "stdout"
        },
        {
          "output_type": "display_data",
          "data": {
            "text/plain": [
              "       predictions  targets\n",
              "count      17000.0  17000.0\n",
              "mean         114.2    207.3\n",
              "std           94.2    116.0\n",
              "min            0.1     15.0\n",
              "25%           63.2    119.4\n",
              "50%           91.9    180.4\n",
              "75%          136.1    265.0\n",
              "max         1638.9    500.0"
            ],
            "text/html": [
              "<div>\n",
              "<style scoped>\n",
              "    .dataframe tbody tr th:only-of-type {\n",
              "        vertical-align: middle;\n",
              "    }\n",
              "\n",
              "    .dataframe tbody tr th {\n",
              "        vertical-align: top;\n",
              "    }\n",
              "\n",
              "    .dataframe thead th {\n",
              "        text-align: right;\n",
              "    }\n",
              "</style>\n",
              "<table border=\"1\" class=\"dataframe\">\n",
              "  <thead>\n",
              "    <tr style=\"text-align: right;\">\n",
              "      <th></th>\n",
              "      <th>predictions</th>\n",
              "      <th>targets</th>\n",
              "    </tr>\n",
              "  </thead>\n",
              "  <tbody>\n",
              "    <tr>\n",
              "      <th>count</th>\n",
              "      <td>17000.0</td>\n",
              "      <td>17000.0</td>\n",
              "    </tr>\n",
              "    <tr>\n",
              "      <th>mean</th>\n",
              "      <td>114.2</td>\n",
              "      <td>207.3</td>\n",
              "    </tr>\n",
              "    <tr>\n",
              "      <th>std</th>\n",
              "      <td>94.2</td>\n",
              "      <td>116.0</td>\n",
              "    </tr>\n",
              "    <tr>\n",
              "      <th>min</th>\n",
              "      <td>0.1</td>\n",
              "      <td>15.0</td>\n",
              "    </tr>\n",
              "    <tr>\n",
              "      <th>25%</th>\n",
              "      <td>63.2</td>\n",
              "      <td>119.4</td>\n",
              "    </tr>\n",
              "    <tr>\n",
              "      <th>50%</th>\n",
              "      <td>91.9</td>\n",
              "      <td>180.4</td>\n",
              "    </tr>\n",
              "    <tr>\n",
              "      <th>75%</th>\n",
              "      <td>136.1</td>\n",
              "      <td>265.0</td>\n",
              "    </tr>\n",
              "    <tr>\n",
              "      <th>max</th>\n",
              "      <td>1638.9</td>\n",
              "      <td>500.0</td>\n",
              "    </tr>\n",
              "  </tbody>\n",
              "</table>\n",
              "</div>"
            ]
          },
          "metadata": {
            "tags": []
          }
        },
        {
          "output_type": "stream",
          "text": [
            "Final RMSE (on training data): 167.70\n"
          ],
          "name": "stdout"
        },
        {
          "output_type": "display_data",
          "data": {
            "image/png": "iVBORw0KGgoAAAANSUhEUgAABCwAAAGoCAYAAACNC3T5AAAABHNCSVQICAgIfAhkiAAAAAlwSFlz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\ntXijrmlPgQAAAABJRU5ErkJggg==\n",
            "text/plain": [
              "<Figure size 1080x432 with 2 Axes>"
            ]
          },
          "metadata": {
            "tags": []
          }
        }
      ]
    },
    {
      "cell_type": "markdown",
      "metadata": {
        "id": "M8H0_D4vYa49",
        "colab_type": "text"
      },
      "source": [
        "This is just one possible configuration; there may be other combinations of settings that also give good results. Note that in general, this exercise isn't about finding the *one best* setting, but to help build your intutions about how tweaking the model configuration affects prediction quality."
      ]
    },
    {
      "cell_type": "markdown",
      "metadata": {
        "id": "QU5sLyYTqzqL",
        "colab_type": "text",
        "slideshow": {
          "slide_type": "slide"
        }
      },
      "source": [
        "### Is There a Standard Heuristic for Model Tuning?\n",
        "\n",
        "This is a commonly asked question. The short answer is that the effects of different hyperparameters are data dependent. So there are no hard-and-fast rules; you'll need to test on your data.\n",
        "\n",
        "That said, here are a few rules of thumb that may help guide you:\n",
        "\n",
        " * Training error should steadily decrease, steeply at first, and should eventually plateau as training converges.\n",
        " * If the training has not converged, try running it for longer.\n",
        " * If the training error decreases too slowly, increasing the learning rate may help it decrease faster.\n",
        "   * But sometimes the exact opposite may happen if the learning rate is too high.\n",
        " * If the training error varies wildly, try decreasing the learning rate.\n",
        "   * Lower learning rate plus larger number of steps or larger batch size is often a good combination.\n",
        " * Very small batch sizes can also cause instability.  First try larger values like 100 or 1000, and decrease until you see degradation.\n",
        "\n",
        "Again, never go strictly by these rules of thumb, because the effects are data dependent.  Always experiment and verify."
      ]
    },
    {
      "cell_type": "markdown",
      "metadata": {
        "id": "GpV-uF_cBCBU",
        "colab_type": "text",
        "slideshow": {
          "slide_type": "slide"
        }
      },
      "source": [
        "## Task 2: Try a Different Feature\n",
        "\n",
        "See if you can do any better by replacing the `total_rooms` feature with the `population` feature.\n",
        "\n",
        "Don't take more than 5 minutes on this portion."
      ]
    },
    {
      "cell_type": "code",
      "metadata": {
        "id": "YMyOxzb0ZlAH",
        "colab_type": "code",
        "colab": {
          "base_uri": "https://localhost:8080/",
          "height": 959
        },
        "outputId": "39834ba1-9ab7-46b9-8005-945c97eb42d3"
      },
      "source": [
        "# YOUR CODE HERE\n",
        "train_model(\n",
        "    learning_rate=0.00002,\n",
        "    steps=500,\n",
        "    batch_size=5,\n",
        "    input_feature=\"population\"\n",
        ")"
      ],
      "execution_count": 19,
      "outputs": [
        {
          "output_type": "stream",
          "text": [
            "Training model...\n",
            "RMSE (on training data):\n",
            "  period 00 : 231.48\n",
            "  period 01 : 225.63\n",
            "  period 02 : 220.00\n",
            "  period 03 : 214.62\n",
            "  period 04 : 209.51\n",
            "  period 05 : 204.67\n",
            "  period 06 : 200.14\n",
            "  period 07 : 196.26\n",
            "  period 08 : 192.67\n",
            "  period 09 : 189.12\n",
            "Model training finished.\n"
          ],
          "name": "stdout"
        },
        {
          "output_type": "display_data",
          "data": {
            "text/plain": [
              "       predictions  targets\n",
              "count      17000.0  17000.0\n",
              "mean          70.3    207.3\n",
              "std           56.5    116.0\n",
              "min            0.1     15.0\n",
              "25%           38.9    119.4\n",
              "50%           57.4    180.4\n",
              "75%           84.7    265.0\n",
              "max         1755.6    500.0"
            ],
            "text/html": [
              "<div>\n",
              "<style scoped>\n",
              "    .dataframe tbody tr th:only-of-type {\n",
              "        vertical-align: middle;\n",
              "    }\n",
              "\n",
              "    .dataframe tbody tr th {\n",
              "        vertical-align: top;\n",
              "    }\n",
              "\n",
              "    .dataframe thead th {\n",
              "        text-align: right;\n",
              "    }\n",
              "</style>\n",
              "<table border=\"1\" class=\"dataframe\">\n",
              "  <thead>\n",
              "    <tr style=\"text-align: right;\">\n",
              "      <th></th>\n",
              "      <th>predictions</th>\n",
              "      <th>targets</th>\n",
              "    </tr>\n",
              "  </thead>\n",
              "  <tbody>\n",
              "    <tr>\n",
              "      <th>count</th>\n",
              "      <td>17000.0</td>\n",
              "      <td>17000.0</td>\n",
              "    </tr>\n",
              "    <tr>\n",
              "      <th>mean</th>\n",
              "      <td>70.3</td>\n",
              "      <td>207.3</td>\n",
              "    </tr>\n",
              "    <tr>\n",
              "      <th>std</th>\n",
              "      <td>56.5</td>\n",
              "      <td>116.0</td>\n",
              "    </tr>\n",
              "    <tr>\n",
              "      <th>min</th>\n",
              "      <td>0.1</td>\n",
              "      <td>15.0</td>\n",
              "    </tr>\n",
              "    <tr>\n",
              "      <th>25%</th>\n",
              "      <td>38.9</td>\n",
              "      <td>119.4</td>\n",
              "    </tr>\n",
              "    <tr>\n",
              "      <th>50%</th>\n",
              "      <td>57.4</td>\n",
              "      <td>180.4</td>\n",
              "    </tr>\n",
              "    <tr>\n",
              "      <th>75%</th>\n",
              "      <td>84.7</td>\n",
              "      <td>265.0</td>\n",
              "    </tr>\n",
              "    <tr>\n",
              "      <th>max</th>\n",
              "      <td>1755.6</td>\n",
              "      <td>500.0</td>\n",
              "    </tr>\n",
              "  </tbody>\n",
              "</table>\n",
              "</div>"
            ]
          },
          "metadata": {
            "tags": []
          }
        },
        {
          "output_type": "stream",
          "text": [
            "Final RMSE (on training data): 189.12\n"
          ],
          "name": "stdout"
        },
        {
          "output_type": "display_data",
          "data": {
            "image/png": "iVBORw0KGgoAAAANSUhEUgAABCwAAAGoCAYAAACNC3T5AAAABHNCSVQICAgIfAhkiAAAAAlwSFlz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\nRK5CYII=\n",
            "text/plain": [
              "<Figure size 1080x432 with 2 Axes>"
            ]
          },
          "metadata": {
            "tags": []
          }
        }
      ]
    }
  ]
}
